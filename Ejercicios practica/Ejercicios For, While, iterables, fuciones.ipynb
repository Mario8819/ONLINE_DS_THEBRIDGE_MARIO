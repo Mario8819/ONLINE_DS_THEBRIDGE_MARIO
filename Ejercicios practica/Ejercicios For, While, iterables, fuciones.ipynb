{
 "cells": [
  {
   "cell_type": "markdown",
   "metadata": {},
   "source": [
    "<img src = \"./img/TheBridge_logo_RGB_color.jpg\" width = 500>\n",
    "<img src = \"./img/python.jpg\" width = 500>"
   ]
  },
  {
   "cell_type": "code",
   "execution_count": 30,
   "metadata": {},
   "outputs": [
    {
     "name": "stdout",
     "output_type": "stream",
     "text": [
      "[56, 34, 1]\n",
      "[12, 4, 5]\n",
      "[9, 4, 3]\n"
     ]
    }
   ],
   "source": [
    "lista = [[56, 34, 1],\n",
    "[12, 4, 5],\n",
    "[9, 4, 3]]\n",
    "\n",
    "for i in lista:\n",
    "    print(i)\n"
   ]
  },
  {
   "cell_type": "code",
   "execution_count": 31,
   "metadata": {},
   "outputs": [
    {
     "name": "stdout",
     "output_type": "stream",
     "text": [
      "56\n",
      "34\n",
      "1\n",
      "12\n",
      "4\n",
      "5\n",
      "9\n",
      "4\n",
      "3\n"
     ]
    }
   ],
   "source": [
    "for fila in lista:\n",
    "    for elemento in fila:\n",
    "        print(elemento)"
   ]
  },
  {
   "cell_type": "code",
   "execution_count": 34,
   "metadata": {},
   "outputs": [
    {
     "name": "stdout",
     "output_type": "stream",
     "text": [
      "n\n",
      "o\n",
      "t\n",
      "y\n",
      "h\n",
      "P\n"
     ]
    }
   ],
   "source": [
    "texto = (\"Phyton\")\n",
    "\n",
    "for letra in texto[::-1]:\n",
    "    print(letra)"
   ]
  },
  {
   "cell_type": "code",
   "execution_count": 44,
   "metadata": {},
   "outputs": [
    {
     "name": "stdout",
     "output_type": "stream",
     "text": [
      "P\n",
      "t\n",
      "o\n"
     ]
    }
   ],
   "source": [
    "texto = (\"Python\")\n",
    "\n",
    "for letra in texto[::2]:\n",
    "    print(letra)"
   ]
  },
  {
   "cell_type": "code",
   "execution_count": 50,
   "metadata": {},
   "outputs": [
    {
     "name": "stdout",
     "output_type": "stream",
     "text": [
      "20\n",
      "18\n",
      "16\n",
      "14\n",
      "12\n",
      "10\n",
      "8\n",
      "6\n",
      "4\n",
      "2\n"
     ]
    }
   ],
   "source": [
    "for i in range(20,0,-2):\n",
    "    print(i)"
   ]
  },
  {
   "cell_type": "code",
   "execution_count": 60,
   "metadata": {},
   "outputs": [
    {
     "name": "stdout",
     "output_type": "stream",
     "text": [
      "4\n",
      "3\n",
      "2\n",
      "1\n",
      "0\n"
     ]
    }
   ],
   "source": [
    "x = 5\n",
    "while x > 0:\n",
    "    x -=1\n",
    "    print(x)\n"
   ]
  },
  {
   "cell_type": "code",
   "execution_count": null,
   "metadata": {},
   "outputs": [
    {
     "name": "stdout",
     "output_type": "stream",
     "text": [
      "['dos', 'tres']\n",
      "['tres']\n",
      "[]\n",
      "El bucle ha finazlizado\n"
     ]
    }
   ],
   "source": [
    "x = [\"uno\", \"dos\", \"tres\"]\n",
    "while x:\n",
    "    x.pop(0)\n",
    "    print(x)\n",
    "    \n",
    "else:\n",
    "    print(\"El bucle ha finazlizado\")"
   ]
  },
  {
   "cell_type": "code",
   "execution_count": 74,
   "metadata": {},
   "outputs": [
    {
     "name": "stdout",
     "output_type": "stream",
     "text": [
      "4\n"
     ]
    }
   ],
   "source": [
    "x = 5\n",
    "while x > 0:\n",
    "    x -=1\n",
    "    print(x) #4,3,2,1,0\n",
    "    break\n",
    "else:\n",
    "    print(\"El bucle ha finalizado\")"
   ]
  },
  {
   "cell_type": "code",
   "execution_count": 75,
   "metadata": {},
   "outputs": [
    {
     "name": "stdout",
     "output_type": "stream",
     "text": [
      "4\n",
      "3\n",
      "2\n",
      "1\n",
      "0\n"
     ]
    }
   ],
   "source": [
    "x = 5\n",
    "while True:\n",
    "    x -= 1\n",
    "    print(x) #4, 3, 2, 1, 0\n",
    "    if x == 0:\n",
    "        break\n",
    "else:\n",
    "    # El print no se ejecuta\n",
    "    print(\"Fin del bucle\")"
   ]
  },
  {
   "cell_type": "code",
   "execution_count": 76,
   "metadata": {},
   "outputs": [
    {
     "name": "stdout",
     "output_type": "stream",
     "text": [
      "0 0\n",
      "0 1\n",
      "0 2\n",
      "1 0\n",
      "1 1\n",
      "1 2\n",
      "2 0\n",
      "2 1\n",
      "2 2\n"
     ]
    }
   ],
   "source": [
    "# Permutación a generar\n",
    "i = 0\n",
    "j = 0\n",
    "while i < 3:\n",
    "    while j < 3:\n",
    "        print(i,j)\n",
    "        j += 1\n",
    "    i += 1\n",
    "    j = 0"
   ]
  },
  {
   "cell_type": "code",
   "execution_count": 77,
   "metadata": {},
   "outputs": [
    {
     "name": "stdout",
     "output_type": "stream",
     "text": [
      "0 0 0\n",
      "0 1 1\n",
      "0 2 2\n",
      "1 0 0\n",
      "1 1 1\n",
      "1 2 2\n",
      "2 0 0\n",
      "2 1 1\n",
      "2 2 2\n"
     ]
    }
   ],
   "source": [
    "i, j, k = 0, 0, 0\n",
    "while i < 3:\n",
    "    while j < 3:\n",
    "        while k < 3:\n",
    "            print(i,j,k)\n",
    "            k += 1\n",
    "            j += 1\n",
    "        k = 0\n",
    "    i += 1\n",
    "    j = 0"
   ]
  },
  {
   "cell_type": "code",
   "execution_count": 87,
   "metadata": {},
   "outputs": [
    {
     "name": "stdout",
     "output_type": "stream",
     "text": [
      "       *       \n",
      "      ***      \n",
      "     *****     \n",
      "    *******    \n",
      "   *********   \n",
      "  ***********  \n",
      " ************* \n"
     ]
    }
   ],
   "source": [
    "z = 7\n",
    "x = 1\n",
    "while z > 0:\n",
    "    print(' ' * z + '*' * x + ' ' * z)\n",
    "    x+=2\n",
    "    z-=1"
   ]
  },
  {
   "cell_type": "code",
   "execution_count": 98,
   "metadata": {},
   "outputs": [
    {
     "name": "stdout",
     "output_type": "stream",
     "text": [
      "P\n",
      "Py\n",
      "Pyt\n",
      "Pyth\n",
      "Pytho\n",
      "Python\n"
     ]
    }
   ],
   "source": [
    "text = \"Python\"\n",
    "i = 0\n",
    "while i < len(text):\n",
    "    print(text[:i + 1])\n",
    "    i += 1"
   ]
  },
  {
   "cell_type": "code",
   "execution_count": 101,
   "metadata": {},
   "outputs": [
    {
     "name": "stdout",
     "output_type": "stream",
     "text": [
      "P\n",
      "y\n",
      "t\n",
      "se enconro la h\n"
     ]
    }
   ],
   "source": [
    "cadena = \"Python\"\n",
    "for letra in cadena:\n",
    "    if letra == \"h\":\n",
    "        print(\"se enconro la h\")\n",
    "        break\n",
    "    print(letra)"
   ]
  },
  {
   "cell_type": "code",
   "execution_count": 103,
   "metadata": {},
   "outputs": [
    {
     "name": "stdout",
     "output_type": "stream",
     "text": [
      "P\n",
      "y\n",
      "h\n",
      "o\n",
      "n\n"
     ]
    }
   ],
   "source": [
    "cadena = \"Python\"\n",
    "for letra in cadena:\n",
    "    if letra == \"t\":\n",
    "        continue\n",
    "    print(letra)"
   ]
  },
  {
   "cell_type": "code",
   "execution_count": 104,
   "metadata": {},
   "outputs": [
    {
     "name": "stdout",
     "output_type": "stream",
     "text": [
      "4\n",
      "2\n",
      "1\n",
      "0\n"
     ]
    }
   ],
   "source": [
    "x = 5\n",
    "while x > 0:\n",
    "    x -= 1\n",
    "    if x == 3:\n",
    "        continue\n",
    "    print(x)"
   ]
  },
  {
   "cell_type": "code",
   "execution_count": 105,
   "metadata": {},
   "outputs": [
    {
     "name": "stdout",
     "output_type": "stream",
     "text": [
      "(0, 'Gera')\n",
      "(1, 'Luis')\n",
      "(2, 'Jorge')\n",
      "(3, 'Jesus')\n",
      "(4, 'Ricardo')\n"
     ]
    }
   ],
   "source": [
    "lista = [\"Gera\", \"Luis\",\"Jorge\",\"Jesus\",\"Ricardo\"]\n",
    "\n",
    "for alumno in enumerate(lista):\n",
    "    print(alumno)"
   ]
  },
  {
   "cell_type": "code",
   "execution_count": 7,
   "metadata": {},
   "outputs": [
    {
     "data": {
      "text/plain": [
       "13"
      ]
     },
     "execution_count": 7,
     "metadata": {},
     "output_type": "execute_result"
    }
   ],
   "source": [
    "def suma(a, b, c=0):\n",
    "    return a+b+c\n",
    "suma(5,5,3)"
   ]
  },
  {
   "cell_type": "code",
   "execution_count": 6,
   "metadata": {},
   "outputs": [
    {
     "data": {
      "text/plain": [
       "13"
      ]
     },
     "execution_count": 6,
     "metadata": {},
     "output_type": "execute_result"
    }
   ],
   "source": [
    "def suma(numeros):\n",
    "    total = 0\n",
    "    for n in numeros:\n",
    "        total += n\n",
    "    return total\n",
    "suma([1,3,5,4]) "
   ]
  },
  {
   "cell_type": "code",
   "execution_count": 111,
   "metadata": {},
   "outputs": [
    {
     "data": {
      "text/plain": [
       "7"
      ]
     },
     "execution_count": 111,
     "metadata": {},
     "output_type": "execute_result"
    }
   ],
   "source": [
    "def suma(*numeros):\n",
    "    total = 0\n",
    "    for n in numeros:\n",
    "        total += n\n",
    "    return total\n",
    "\n",
    "suma(2,5)"
   ]
  },
  {
   "cell_type": "code",
   "execution_count": 5,
   "metadata": {},
   "outputs": [
    {
     "data": {
      "text/plain": [
       "10"
      ]
     },
     "execution_count": 5,
     "metadata": {},
     "output_type": "execute_result"
    }
   ],
   "source": [
    "def suma(*args):\n",
    "    s = 0\n",
    "    for arg in args:\n",
    "        s += arg\n",
    "    return s\n",
    "\n",
    "suma(1, 3, 4, 2)\n",
    "\n"
   ]
  },
  {
   "cell_type": "code",
   "execution_count": 8,
   "metadata": {},
   "outputs": [
    {
     "data": {
      "text/plain": [
       "13"
      ]
     },
     "execution_count": 8,
     "metadata": {},
     "output_type": "execute_result"
    }
   ],
   "source": [
    "def suma(*args):\n",
    "    return sum(args)\n",
    "\n",
    "suma(5, 5, 3)"
   ]
  },
  {
   "cell_type": "code",
   "execution_count": 4,
   "metadata": {},
   "outputs": [
    {
     "name": "stdout",
     "output_type": "stream",
     "text": [
      "a 20\n",
      "b 30\n",
      "c 25\n",
      "c 25\n"
     ]
    },
    {
     "data": {
      "text/plain": [
       "75"
      ]
     },
     "execution_count": 4,
     "metadata": {},
     "output_type": "execute_result"
    }
   ],
   "source": [
    "def suma(**kwargs):\n",
    "    suma = 0\n",
    "    for key, value in kwargs.items():\n",
    "        print(key,value)\n",
    "        suma+=value\n",
    "    print(key,value)\n",
    "    return suma\n",
    "\n",
    "go = {\"a\":20, \"b\":30, \"c\":25}\n",
    "suma(**go)\n"
   ]
  },
  {
   "cell_type": "code",
   "execution_count": 12,
   "metadata": {},
   "outputs": [
    {
     "name": "stdout",
     "output_type": "stream",
     "text": [
      "a = 3\n",
      "b = 10\n",
      "c = 3\n"
     ]
    },
    {
     "data": {
      "text/plain": [
       "16"
      ]
     },
     "execution_count": 12,
     "metadata": {},
     "output_type": "execute_result"
    }
   ],
   "source": [
    "def suma(**numeros):\n",
    "    s = 0\n",
    "    for key, value in numeros.items():\n",
    "        print(key, \"=\", value)\n",
    "        s += value\n",
    "    return s\n",
    "\n",
    "suma(a=3, b=10, c=3)"
   ]
  },
  {
   "cell_type": "code",
   "execution_count": 17,
   "metadata": {},
   "outputs": [
    {
     "name": "stdout",
     "output_type": "stream",
     "text": [
      "suma = 30\n",
      "resta = 10\n",
      "args = 1\n",
      "args = 2\n",
      "args = 3\n",
      "args = 4\n",
      "x = Hola\n",
      "y = Que\n",
      "z = Tal\n"
     ]
    }
   ],
   "source": [
    "### Mezclar argumentos posicionales, *args y **kwargs\n",
    "\n",
    "def funcion(a, b, *args, **kwargs):\n",
    "    print(\"suma =\", a + b)\n",
    "    print(\"resta =\", b - a)\n",
    "    for arg in args:\n",
    "        print(\"args =\", arg)\n",
    "    for key, value in kwargs.items():\n",
    "        print(key, \"=\", value)\n",
    "\n",
    "funcion(10, 20, 1, 2, 3, 4, x=\"Hola\", y=\"Que\", z=\"Tal\")"
   ]
  },
  {
   "cell_type": "code",
   "execution_count": 18,
   "metadata": {},
   "outputs": [
    {
     "name": "stdout",
     "output_type": "stream",
     "text": [
      "a = 10\n",
      "b = 20\n",
      "args = 1\n",
      "args = 2\n",
      "args = 3\n",
      "args = 4\n",
      "x = Hola\n",
      "y = Que\n",
      "z = Tal\n"
     ]
    }
   ],
   "source": [
    "def funcion(a, b, *args, **kwargs):\n",
    "    print(\"a =\", a)\n",
    "    print(\"b =\", b)\n",
    "    for arg in args:\n",
    "        print(\"args =\", arg)\n",
    "    for key, value in kwargs.items():\n",
    "        print(key, \"=\", value)\n",
    "\n",
    "args = [1, 2, 3, 4]\n",
    "kwargs = {'x':\"Hola\", 'y':\"Que\", 'z':\"Tal\"}\n",
    "\n",
    "funcion(10, 20, *args, **kwargs)"
   ]
  },
  {
   "cell_type": "code",
   "execution_count": 1,
   "metadata": {},
   "outputs": [
    {
     "name": "stdout",
     "output_type": "stream",
     "text": [
      "[2, 4, 6, 8, 10]\n"
     ]
    }
   ],
   "source": [
    "### Map\n",
    "lista = [1, 2, 3, 4, 5]\n",
    "\n",
    "def por_dos(x):\n",
    "    return x * 2\n",
    "\n",
    "lista_pordos = map(por_dos, lista)\n",
    "\n",
    "print(list(lista_pordos))\n"
   ]
  }
 ],
 "metadata": {
  "kernelspec": {
   "display_name": "Python 3",
   "language": "python",
   "name": "python3"
  },
  "language_info": {
   "codemirror_mode": {
    "name": "ipython",
    "version": 3
   },
   "file_extension": ".py",
   "mimetype": "text/x-python",
   "name": "python",
   "nbconvert_exporter": "python",
   "pygments_lexer": "ipython3",
   "version": "3.10.11"
  }
 },
 "nbformat": 4,
 "nbformat_minor": 4
}
