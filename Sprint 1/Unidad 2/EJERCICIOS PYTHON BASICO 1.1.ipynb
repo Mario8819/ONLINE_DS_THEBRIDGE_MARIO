{
 "cells": [
  {
   "cell_type": "markdown",
   "id": "8e0d4c7c-57a7-42ea-a16c-85f4175680dc",
   "metadata": {},
   "source": [
    "# EJERCICIOS PYTHON BASICO 1.1:\n",
    "#### Variables, Print y Comentarios\n",
    "#### Completa los siguiente ejercicios, la solución a los mismos se publicarán en el repo del curso a lo largo del sprint"
   ]
  },
  {
   "cell_type": "markdown",
   "id": "01140413-f435-4204-ab90-feb7260e680a",
   "metadata": {},
   "source": [
    "#### Ejercicio 1: Print con formato\n",
    "#### Imprime por pantalla esta cita con el siguiente formato\n"
   ]
  },
  {
   "cell_type": "code",
   "execution_count": 47,
   "id": "9d4c17a5-7e27-4ae7-bd63-1814aa7b6c4a",
   "metadata": {},
   "outputs": [
    {
     "name": "stdout",
     "output_type": "stream",
     "text": [
      "¿Por que esta magnifica tecnologia cientifica\n",
      "que ahorra trabajo y nos hace la via mas facil,\n",
      "nos aporta tan poca felicidad?\n",
      "La respuesta es está simplemente: por que un no hemos aprendido a usarla con tino.\n",
      "\"Albert Eintsein\"\n"
     ]
    }
   ],
   "source": [
    "print('¿Por que esta magnifica tecnologia cientifica')\n",
    "print('que ahorra trabajo y nos hace la via mas facil,')\n",
    "print('nos aporta tan poca felicidad?')\n",
    "print('La respuesta es está simplemente: por que un no hemos aprendido a usarla con tino.')\n",
    "print('\"Albert Eintsein\"')\n",
    "            "
   ]
  },
  {
   "cell_type": "markdown",
   "id": "db4eb6ec-7ac6-42dc-a9d4-a281d0007257",
   "metadata": {},
   "source": [
    "#### Ejercicio 2: Print y variables\n",
    "1. Escribe el nombre de la calle de tu domicilio\n",
    "2. Escribe el numero de la calle en otra\n",
    "3. Población en una tercera\n",
    "4. Codigo postal en la cuarta variable\n",
    "5. Crea una quinta variable que concatene todas ellas\n",
    "6. Imprimela por pantalla"
   ]
  },
  {
   "cell_type": "code",
   "execution_count": 20,
   "id": "2c81717a-6239-4bdf-899c-d3de62d985c7",
   "metadata": {},
   "outputs": [
    {
     "name": "stdout",
     "output_type": "stream",
     "text": [
      "Garza\n",
      "426\n",
      "600000\n",
      "34199\n",
      "Mi domicilio es Garza numero 426 ,la poblacion es de 600000 habitantes, y el codigo postal es 34199\n"
     ]
    }
   ],
   "source": [
    "calle = \"Garza\"\n",
    "print(calle)\n",
    "numero = 426\n",
    "print(numero)\n",
    "poblacion = 600000\n",
    "print(poblacion)\n",
    "cp = 34199\n",
    "print(cp)\n",
    "print(\"Mi domicilio es\", calle, \"numero\", numero, \",la poblacion es de\", poblacion, \"habitantes, y el codigo postal es\", cp)\n"
   ]
  },
  {
   "cell_type": "markdown",
   "id": "c03cbd7e-01f9-49af-aa24-a46891c591fa",
   "metadata": {},
   "source": [
    "#### Ejercicio 3: Comentarios\n",
    "1. Copia en el programa del ejercicio anterior\n",
    "2. Comentalo línea a línea, bien antes de cada línea, bien a su derecha\n",
    "3. Termina con un comentario multilínea explicando que hace en general el programa"
   ]
  },
  {
   "cell_type": "code",
   "execution_count": 24,
   "id": "60893722-b834-418e-84a1-b915e2bba670",
   "metadata": {},
   "outputs": [
    {
     "name": "stdout",
     "output_type": "stream",
     "text": [
      "Garza\n",
      "426\n",
      "15000\n",
      "34199\n",
      "Mi domicilio es Garza numero 426 ,la poblacion es de 15000 habitantes, y el codigo postal es 34199\n"
     ]
    }
   ],
   "source": [
    "calle = \"Garza\"  # Asignamos el valor de la calle donde vivo\n",
    "print(calle)\n",
    "numero = 426    # Tambien el numero de mi hogar\n",
    "print(numero)\n",
    "poblacion = 15000    # La poblacion de habitantes que viven en mi ciudad\n",
    "print(poblacion)\n",
    "cp = 34199     # El codigo postal de mi domicilio\n",
    "print(cp)\n",
    "\n",
    "''' Vamos a concatenar\n",
    "      todos los datos de mi domicilio\n",
    "         en donde habito actualmente-'''\n",
    "\n",
    "print(\"Mi domicilio es\", calle, \"numero\", numero, \",la poblacion es de\", poblacion, \"habitantes, y el codigo postal es\", cp)"
   ]
  },
  {
   "cell_type": "markdown",
   "id": "944c366d-908b-4f58-bf8d-a4d040863287",
   "metadata": {},
   "source": [
    "#### Ejercicio 4: Variables\n",
    "#### ¿Qué variables están mal escritas y por qué? Realiza primero tu hipótesis y luego ejecuta las variables para comprobarlo. En ese orden :)\n",
    "1. mi_variable = \"Economía\"\n",
    "2. otra_var = \"Ejercicio\n",
    "3. True = \"Ejercicio\"\n",
    "4. mi variab1e = \"Alpha\"\n",
    "5. exec = True\n",
    "6. import = 40\n",
    "7. 81mi_variable = \"Agua\"\n",
    "8. mi_variable10 = 6"
   ]
  },
  {
   "cell_type": "markdown",
   "id": "8b23969c-e93d-49bc-b1ee-0d10d8eff9eb",
   "metadata": {},
   "source": [
    "### Las variables mal escritas son:\n",
    "2. Ya que le faltan las comillas al final\n",
    "3. True es una palabra clave no puede ir al inicio de la variable\n",
    "4. No puede haber espacios en las variables\n",
    "6. Import es una palabra clave no puede ir al inicio de la variable\n",
    "7. Una variable no puede comenzar con número"
   ]
  },
  {
   "cell_type": "markdown",
   "id": "b787ff4a-1ebd-4759-9a60-d01de03f4259",
   "metadata": {},
   "source": [
    "#### Ejercicio 5: variables\n",
    "1. Crea un programa que almacene el número de victorias de la selección femenina de fútbol en el Mundial de 2023.\n",
    "2. Guarda el número de victorias en otra, y el número de derrotas en otro\n",
    "3. Crea una variable que sea el porcentaje de victorias\n",
    "4. Crea una variable que sea el porcentaje de derrotas\n",
    "5. Comprueba que todas las variables tienen los valores que les corresponde, hazlo de las dos maneras que hemos visto en clase, como celda de salida y con el uso de print"
   ]
  },
  {
   "cell_type": "code",
   "execution_count": 46,
   "id": "d5be727d-26ee-4ca4-b71b-3fb15d81e88a",
   "metadata": {},
   "outputs": [
    {
     "name": "stdout",
     "output_type": "stream",
     "text": [
      "Numero de victorias: 6\n",
      "Numero de derrotas: 1\n",
      "Porcentaje de victorias 85.71428571428571 %\n",
      "Porcentaje de derrotas 14.285714285714285 %\n"
     ]
    }
   ],
   "source": [
    "victorias = 6\n",
    "derrotas = 1\n",
    "total_de_partidos = victorias + derrotas\n",
    "total_de_victorias = (victorias / total_de_partidos) * 100\n",
    "total_de_derrotas = (derrotas / total_de_partidos) * 100\n",
    "\n",
    "print(\"Numero de victorias:\", victorias)\n",
    "print(\"Numero de derrotas:\", derrotas)\n",
    "print(\"Porcentaje de victorias\", total_de_victorias, \"%\")\n",
    "print(\"Porcentaje de derrotas\", total_de_derrotas, \"%\")\n"
   ]
  },
  {
   "cell_type": "code",
   "execution_count": null,
   "id": "1fe5e069-16b3-470d-881a-a831ea89d239",
   "metadata": {},
   "outputs": [],
   "source": []
  }
 ],
 "metadata": {
  "kernelspec": {
   "display_name": "Python 3 (ipykernel)",
   "language": "python",
   "name": "python3"
  },
  "language_info": {
   "codemirror_mode": {
    "name": "ipython",
    "version": 3
   },
   "file_extension": ".py",
   "mimetype": "text/x-python",
   "name": "python",
   "nbconvert_exporter": "python",
   "pygments_lexer": "ipython3",
   "version": "3.10.11"
  }
 },
 "nbformat": 4,
 "nbformat_minor": 5
}
