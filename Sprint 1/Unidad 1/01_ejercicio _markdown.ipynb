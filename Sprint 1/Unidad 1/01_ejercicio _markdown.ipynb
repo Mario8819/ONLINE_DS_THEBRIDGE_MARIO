{
 "cells": [
  {
   "cell_type": "markdown",
   "id": "c02492ba-f0ff-4c77-b633-ce5332f26b87",
   "metadata": {},
   "source": [
    "Ejercicio 1: Cabeceras"
   ]
  },
  {
   "cell_type": "markdown",
   "id": "ae83fe58-f815-4af3-9dc5-d673abbbabd7",
   "metadata": {},
   "source": [
    "# Ciencia de datos"
   ]
  },
  {
   "cell_type": "markdown",
   "id": "7fa68d05-5a5d-4108-a276-79f943fef198",
   "metadata": {},
   "source": [
    "## Introduccion"
   ]
  },
  {
   "cell_type": "markdown",
   "id": "a54a00ca-566c-4269-a223-11456abfd488",
   "metadata": {},
   "source": [
    "### Herramientas"
   ]
  },
  {
   "cell_type": "markdown",
   "id": "d9035278-5b4a-4583-8e24-46196da793c6",
   "metadata": {},
   "source": [
    "Ejercicio 2: Estilo de textos"
   ]
  },
  {
   "cell_type": "markdown",
   "id": "03381cbd-e610-4b7f-b93e-8510a40b7702",
   "metadata": {},
   "source": [
    "**Markdown**"
   ]
  },
  {
   "cell_type": "markdown",
   "id": "8fdad306-c2bd-44a1-8526-38c2b2f5020a",
   "metadata": {},
   "source": [
    "*Jupyter*"
   ]
  },
  {
   "cell_type": "markdown",
   "id": "4735aa64-a848-44e8-affc-723350452b13",
   "metadata": {},
   "source": [
    "***Python***"
   ]
  },
  {
   "cell_type": "markdown",
   "id": "4d5186f2-9c1a-4b8f-94cb-dde9f7aa2669",
   "metadata": {},
   "source": [
    "Ejercicio 3: Resaltados y HTML"
   ]
  },
  {
   "cell_type": "markdown",
   "id": "3a283d2c-edd4-4e27-8c9c-90b720e1b995",
   "metadata": {},
   "source": [
    "==resaltado=="
   ]
  },
  {
   "cell_type": "markdown",
   "id": "90f5f69c-9b12-4307-881c-924c3cd31ddb",
   "metadata": {},
   "source": [
    "style=\"background-color: blue;\""
   ]
  },
  {
   "cell_type": "markdown",
   "id": "03e53721-f044-49b0-a86d-e0fa28033fcf",
   "metadata": {},
   "source": [
    "Ejercicio 4: Citas"
   ]
  },
  {
   "cell_type": "markdown",
   "id": "e8500a26-c44d-46f4-8116-550052a074ff",
   "metadata": {},
   "source": [
    "> La Ciencia de Datos es el petróleo del siglo XXI\n",
    ">> En uno y dos niveles de cita"
   ]
  },
  {
   "cell_type": "markdown",
   "id": "b32012be-7fb8-42db-b97d-083df61bf6c9",
   "metadata": {},
   "source": [
    "Ejercicio 5: Combinando todo\n"
   ]
  },
  {
   "cell_type": "markdown",
   "id": "4a7b9301-e23c-45e4-a35b-0b14ebdfdc8f",
   "metadata": {},
   "source": [
    "## Curso de Markdown\n",
    "**importante**\n",
    "> Aprender es crecer\n",
    "\n",
    "*ejemplo*"
   ]
  },
  {
   "cell_type": "code",
   "execution_count": null,
   "id": "1c514e01-58a0-4bb7-aade-3d5df093ef00",
   "metadata": {},
   "outputs": [],
   "source": []
  }
 ],
 "metadata": {
  "kernelspec": {
   "display_name": "Python 3 (ipykernel)",
   "language": "python",
   "name": "python3"
  },
  "language_info": {
   "codemirror_mode": {
    "name": "ipython",
    "version": 3
   },
   "file_extension": ".py",
   "mimetype": "text/x-python",
   "name": "python",
   "nbconvert_exporter": "python",
   "pygments_lexer": "ipython3",
   "version": "3.10.11"
  }
 },
 "nbformat": 4,
 "nbformat_minor": 5
}
