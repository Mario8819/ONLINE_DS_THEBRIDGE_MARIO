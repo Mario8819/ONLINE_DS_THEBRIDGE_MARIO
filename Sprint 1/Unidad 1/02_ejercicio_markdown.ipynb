{
 "cells": [
  {
   "cell_type": "markdown",
   "id": "c43b6ac3-4a05-46a9-8540-cc75b207114e",
   "metadata": {},
   "source": [
    "Ejercicio 6: Listas\n",
    "Crea una lista no ordenada con los siguientes elementos:\n",
    "\n",
    "Manzanas\n",
    "\n",
    "Plátanos\n",
    "\n",
    "Uvas"
   ]
  },
  {
   "cell_type": "markdown",
   "id": "65f328f3-70ed-45c9-8b89-2109000a5a14",
   "metadata": {},
   "source": [
    "* Manzanas\n",
    "+ Plátanos\n",
    "- Uvas"
   ]
  },
  {
   "cell_type": "markdown",
   "id": "7c0d404f-195a-45be-a38e-4ea6c2139251",
   "metadata": {},
   "source": [
    "Crea ahora una lista ordenada de 1 a 3 y que además lo esté alfabéticamente con estos elementos:\n",
    "\n",
    "* Arbol binario\n",
    "* Random Forest\n",
    "* Regresión Logística"
   ]
  },
  {
   "cell_type": "markdown",
   "id": "af3e7615-d69c-4cbe-a651-48cd128be2d8",
   "metadata": {},
   "source": [
    "1. Arbol binario\n",
    "2. Random Forest\n",
    "3. Regresión Logística"
   ]
  },
  {
   "cell_type": "markdown",
   "id": "648a3ebb-44ae-43c4-a535-64f5481754c0",
   "metadata": {},
   "source": [
    "Ejercicio 7: Listas Anidadas\n",
    "Bajo el título \"Frutas y Verduras\", crea una lista ordenada de frutas, y dentro de esta, anida una lista no ordenada de tres frutas. Luego, crea otra lista ordenada de verduras y anida dentro de ella una lista no ordenada de tres verduras.\n",
    "\n",
    "Las listas anidadas no las hemos visto pero seguro que con esto te haces una idea, como con los subrayados en los ejercicios de la primera parte:\n",
    "\n",
    "El elemento con orden\n",
    "Aquí sin orden\n",
    "El siguiente\n",
    "Pico\n",
    "Pala"
   ]
  },
  {
   "cell_type": "markdown",
   "id": "6ea20a01-58aa-4b0d-9287-2129ba9abca4",
   "metadata": {},
   "source": [
    "# Futas y verduras\n",
    "\n",
    "1. Manzana\n",
    "2. Pera\n",
    "3. Platano\n",
    "4. Naranja\n",
    "    * Kiwi\n",
    "    + Uva\n",
    "    * Melon"
   ]
  },
  {
   "cell_type": "markdown",
   "id": "204f2771-bc10-440a-83f8-abb4d22b2f17",
   "metadata": {},
   "source": [
    "1. Zanahoria\n",
    "2. Tomate\n",
    "3. Cebolla\n",
    "4. Pepino\n",
    "    + Brócoli\n",
    "    * Lechuga\n",
    "    * Patata"
   ]
  },
  {
   "cell_type": "markdown",
   "id": "e83b8d6b-4aec-4aae-aa91-fe19e4636d92",
   "metadata": {},
   "source": [
    "Ejercicio 8: Enlaces e Imágenes\n",
    "Inserta:\n",
    "\n",
    "Un enlace que lleve a \"www.thebridge.tech\" con el texto \"Por aquí se cruzan puentes\".\n",
    "Una imagen de cualquier URL con el texto alternativo \"Logo\". Recuerda que puedes hacerlo referenciando la imagen a través de su ruta en tu ordenador, o bien incrustandola en el notebook"
   ]
  },
  {
   "cell_type": "markdown",
   "id": "e38139da-d33a-4eb9-8f4d-6a80ab711a2d",
   "metadata": {},
   "source": [
    "[por aqui se cruzan puentes](https://thebridge.tech/)"
   ]
  },
  {
   "cell_type": "markdown",
   "id": "16a67dcc-3e07-4150-9207-d2eb995fbfda",
   "metadata": {},
   "source": [
    "![Logo](./imagen-python.png)"
   ]
  },
  {
   "cell_type": "code",
   "execution_count": null,
   "id": "12950b2a-73dd-461b-8ab4-ede85502647a",
   "metadata": {},
   "outputs": [],
   "source": []
  }
 ],
 "metadata": {
  "kernelspec": {
   "display_name": "Python 3 (ipykernel)",
   "language": "python",
   "name": "python3"
  },
  "language_info": {
   "codemirror_mode": {
    "name": "ipython",
    "version": 3
   },
   "file_extension": ".py",
   "mimetype": "text/x-python",
   "name": "python",
   "nbconvert_exporter": "python",
   "pygments_lexer": "ipython3",
   "version": "3.10.11"
  }
 },
 "nbformat": 4,
 "nbformat_minor": 5
}
